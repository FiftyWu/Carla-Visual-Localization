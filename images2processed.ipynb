{
 "cells": [
  {
   "cell_type": "markdown",
   "metadata": {},
   "source": [
    "# 将image文件夹内image，另存为一个query文件夹"
   ]
  },
  {
   "cell_type": "code",
   "execution_count": 10,
   "metadata": {},
   "outputs": [],
   "source": [
    "import os\n",
    "import shutil"
   ]
  },
  {
   "cell_type": "code",
   "execution_count": 18,
   "metadata": {},
   "outputs": [],
   "source": [
    "# base_dir = 'D:\\MyFiles\\SceneTransformation\\Relocalization_all\\Town02\\W000_P100_V050_P200\\images'\n",
    "# des_dir = 'D:\\MyFiles\\SceneTransformation\\Relocalization_all\\Town02\\W000_P100_V050_P200\\ProcessedImages'\n",
    "base_dir = 'D:\\MyFiles\\SceneTransformation\\Relocalization_all\\Town02\\W000_P100_V075_P300\\images'\n",
    "des_dir = 'D:\\MyFiles\\SceneTransformation\\Relocalization_all\\Town02\\W000_P100_V075_P300\\ProcessedImages'\n",
    "if not os.path.isdir(des_dir):\n",
    "    os.makedirs(des_dir)\n",
    "    \n",
    "ideal_img_list = []\n",
    "for item in img_list:\n",
    "    if 'fake_B' in item:\n",
    "        src = os.path.join(base_dir, item)\n",
    "        shutil.copy(src, des_dir)    "
   ]
  },
  {
   "cell_type": "code",
   "execution_count": 19,
   "metadata": {},
   "outputs": [],
   "source": [
    "for item in os.listdir(des_dir):\n",
    "    src = os.path.join(des_dir, item)\n",
    "    des = os.path.join(des_dir, item[:6]+'.png')\n",
    "    os.rename(src, des)"
   ]
  },
  {
   "cell_type": "code",
   "execution_count": null,
   "metadata": {},
   "outputs": [],
   "source": []
  },
  {
   "cell_type": "code",
   "execution_count": null,
   "metadata": {},
   "outputs": [],
   "source": []
  }
 ],
 "metadata": {
  "kernelspec": {
   "display_name": "Python [conda env:python36] *",
   "language": "python",
   "name": "conda-env-python36-py"
  },
  "language_info": {
   "codemirror_mode": {
    "name": "ipython",
    "version": 3
   },
   "file_extension": ".py",
   "mimetype": "text/x-python",
   "name": "python",
   "nbconvert_exporter": "python",
   "pygments_lexer": "ipython3",
   "version": "3.6.10"
  }
 },
 "nbformat": 4,
 "nbformat_minor": 4
}
