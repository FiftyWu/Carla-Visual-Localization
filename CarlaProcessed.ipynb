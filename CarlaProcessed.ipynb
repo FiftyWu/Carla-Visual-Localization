{
 "cells": [
  {
   "cell_type": "markdown",
   "metadata": {},
   "source": [
    "# 对每一个动态设置生成 [A B C] 每个都是256*256"
   ]
  },
  {
   "cell_type": "code",
   "execution_count": 63,
   "metadata": {},
   "outputs": [
    {
     "data": {
      "text/plain": [
       "['W000_P100_V050_P200',\n",
       " 'W000_P100_V000_P000',\n",
       " 'W000_P100_V075_P300',\n",
       " '__pycache__']"
      ]
     },
     "execution_count": 63,
     "metadata": {},
     "output_type": "execute_result"
    }
   ],
   "source": [
    "import os\n",
    "import shutil\n",
    "import cv2\n",
    "import numpy as np\n",
    "import skimage.io\n",
    "import matplotlib.pyplot as plt\n",
    "\n",
    "\n",
    "base_dir = '/home/fiftywu/fiftywu/Files/DeepLearning/pix/BOW/Town02'\n",
    "os.listdir(rawdata_dir)"
   ]
  },
  {
   "cell_type": "code",
   "execution_count": 107,
   "metadata": {},
   "outputs": [],
   "source": [
    "static_dir = os.path.join(base_dir, 'W000_P100_V000_P000')\n",
    "dynamic_dir = [os.path.join(base_dir, 'W000_P100_V050_P200'), os.path.join(base_dir, 'W000_P100_V075_P300')]"
   ]
  },
  {
   "cell_type": "code",
   "execution_count": 108,
   "metadata": {},
   "outputs": [
    {
     "data": {
      "text/plain": [
       "['/home/fiftywu/fiftywu/Files/DeepLearning/pix/BOW/Town02/W000_P100_V050_P200',\n",
       " '/home/fiftywu/fiftywu/Files/DeepLearning/pix/BOW/Town02/W000_P100_V075_P300']"
      ]
     },
     "execution_count": 108,
     "metadata": {},
     "output_type": "execute_result"
    }
   ],
   "source": [
    "dynamic_dir"
   ]
  },
  {
   "cell_type": "code",
   "execution_count": 114,
   "metadata": {},
   "outputs": [],
   "source": [
    "\n",
    "tmp_dynamic_dir = dynamic_dir[1]\n",
    "\n",
    "B_dir = os.path.join(static_dir,'RGB')\n",
    "A_dir = os.path.join(tmp_dynamic_dir,'RGB')\n",
    "C_dir = os.path.join(tmp_dynamic_dir,'SemanticSegmentation')\n",
    "\n",
    "AB_dir = os.path.join(tmp_dynamic_dir, 'AB')\n",
    "ABC_dir = os.path.join(tmp_dynamic_dir, 'ABC')\n",
    "if not os.path.isdir(AB_dir):\n",
    "    os.makedirs(AB_dir)\n",
    "if not os.path.isdir(ABC_dir):\n",
    "    os.makedirs(ABC_dir)"
   ]
  },
  {
   "cell_type": "code",
   "execution_count": 115,
   "metadata": {},
   "outputs": [
    {
     "data": {
      "text/plain": [
       "('/home/fiftywu/fiftywu/Files/DeepLearning/pix/BOW/Town02/W000_P100_V075_P300/RGB',\n",
       " '/home/fiftywu/fiftywu/Files/DeepLearning/pix/BOW/Town02/W000_P100_V000_P000/RGB',\n",
       " '/home/fiftywu/fiftywu/Files/DeepLearning/pix/BOW/Town02/W000_P100_V075_P300/AB')"
      ]
     },
     "execution_count": 115,
     "metadata": {},
     "output_type": "execute_result"
    }
   ],
   "source": [
    "A_dir, B_dir, AB_dir"
   ]
  },
  {
   "cell_type": "code",
   "execution_count": 116,
   "metadata": {},
   "outputs": [],
   "source": [
    "def composeAB(A_dir, B_dir, AB_dir, part_name=None):\n",
    "    A_list = os.listdir(A_dir)\n",
    "    B_list = os.listdir(B_dir)\n",
    "    for i in range(len(A_list)):\n",
    "        img_A = cv2.imread(os.path.join(A_dir,A_list[i]), cv2.IMREAD_COLOR)\n",
    "        img_B = cv2.imread(os.path.join(B_dir,A_list[i]), cv2.IMREAD_COLOR)\n",
    "        img_AB = np.concatenate([img_A, img_B], 1) #横向拼接\n",
    "        cv2.imwrite(os.path.join(AB_dir, A_list[i]), img_AB)\n",
    "        if i%50 == 0:\n",
    "            print(part_name, ' process: ',str(i),'/',str(len(A_list)))\n",
    "            \n",
    "def composeABC(A_dir, B_dir, C_dir, ABC_dir, part_name=None):\n",
    "    A_list = os.listdir(A_dir)\n",
    "    B_list = os.listdir(B_dir)\n",
    "    C_list = os.listdir(C_dir)\n",
    "    for i in range(len(A_list)):\n",
    "        img_A = cv2.imread(os.path.join(A_dir,A_list[i]), cv2.IMREAD_COLOR)\n",
    "        img_B = cv2.imread(os.path.join(B_dir,A_list[i]), cv2.IMREAD_COLOR)\n",
    "        img_C = skimage.io.imread(os.path.join(C_dir, A_list[i]))\n",
    "        img_C_copy = img_C.copy()\n",
    "        img_C_copy[:,:,:] = 0\n",
    "        img_C_copy[img_C[:,:,0]==4] = 255 # Pedestrians\n",
    "        img_C_copy[img_C[:,:,0]==10] = 255 # Vehicles\n",
    "        img_ABC = np.concatenate([img_A, img_B, img_C_copy], 1)\n",
    "        cv2.imwrite(os.path.join(ABC_dir, A_list[i]), img_ABC)\n",
    "        if i%50 == 0:\n",
    "            print(part_name, ' process: ',str(i),'/',str(len(A_list)))"
   ]
  },
  {
   "cell_type": "code",
   "execution_count": 117,
   "metadata": {},
   "outputs": [
    {
     "name": "stdout",
     "output_type": "stream",
     "text": [
      "None  process:  0 / 163\n",
      "None  process:  50 / 163\n",
      "None  process:  100 / 163\n",
      "None  process:  150 / 163\n"
     ]
    }
   ],
   "source": [
    "composeAB(A_dir, B_dir, AB_dir)"
   ]
  },
  {
   "cell_type": "code",
   "execution_count": 118,
   "metadata": {},
   "outputs": [
    {
     "name": "stdout",
     "output_type": "stream",
     "text": [
      "None  process:  0 / 163\n",
      "None  process:  50 / 163\n",
      "None  process:  100 / 163\n",
      "None  process:  150 / 163\n"
     ]
    }
   ],
   "source": [
    "composeABC(A_dir, B_dir, C_dir, ABC_dir, part_name=None)"
   ]
  },
  {
   "cell_type": "code",
   "execution_count": null,
   "metadata": {},
   "outputs": [],
   "source": []
  },
  {
   "cell_type": "code",
   "execution_count": null,
   "metadata": {},
   "outputs": [],
   "source": []
  },
  {
   "cell_type": "code",
   "execution_count": null,
   "metadata": {},
   "outputs": [],
   "source": []
  },
  {
   "cell_type": "code",
   "execution_count": null,
   "metadata": {},
   "outputs": [],
   "source": []
  },
  {
   "cell_type": "code",
   "execution_count": null,
   "metadata": {},
   "outputs": [],
   "source": []
  },
  {
   "cell_type": "code",
   "execution_count": null,
   "metadata": {},
   "outputs": [],
   "source": []
  }
 ],
 "metadata": {
  "kernelspec": {
   "display_name": "Python 3",
   "language": "python",
   "name": "python3"
  },
  "language_info": {
   "codemirror_mode": {
    "name": "ipython",
    "version": 3
   },
   "file_extension": ".py",
   "mimetype": "text/x-python",
   "name": "python",
   "nbconvert_exporter": "python",
   "pygments_lexer": "ipython3",
   "version": "3.6.10"
  }
 },
 "nbformat": 4,
 "nbformat_minor": 4
}
